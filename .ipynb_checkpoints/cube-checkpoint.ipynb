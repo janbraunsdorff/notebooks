{
 "cells": [
  {
   "cell_type": "code",
   "execution_count": 3,
   "metadata": {
    "tags": []
   },
   "outputs": [
    {
     "data": {
      "image/png": "[encoded data removed]",
      "text/plain": [
       "<PIL.Image.Image image mode=RGB size=200x100 at 0x7FC55031FFA0>"
      ]
     },
     "metadata": {},
     "output_type": "display_data"
    }
   ],
   "source": [
    "import numpy as np\n",
    "import time\n",
    "from PIL import Image\n",
    "from matplotlib.pyplot import imshow\n",
    "from IPython.display import clear_output\n",
    "%matplotlib inline\n",
    "import random\n",
    "\n",
    "array = np.zeros([100, 200, 3], dtype=np.uint8)\n",
    "array[:,:100] = [255, 128, 0] #Orange left side\n",
    "array[:,100:] = [0, 0, 255]   #Blue right side\n",
    "\n",
    "img = Image.fromarray(array)\n",
    "display(img)\n",
    "\n",
    "array[:,:100] = [random.ra, 255, 0] #Orange left side\n",
    "array[:,100:] = [255, 0, 0]   #Blue right side\n",
    "\n",
    "for i in range(100):\n",
    "    img = Image.fromarray(array)\n",
    "    time.sleep(1)\n",
    "    clear_output(wait=True)\n",
    "    display(img)"
   ]
  },
  {
   "cell_type": "code",
   "execution_count": null,
   "metadata": {},
   "outputs": [],
   "source": []
  }
 ],
 "metadata": {
  "kernelspec": {
   "display_name": "Python 3",
   "language": "python",
   "name": "python3"
  },
  "language_info": {
   "codemirror_mode": {
    "name": "ipython",
    "version": 3
   },
   "file_extension": ".py",
   "mimetype": "text/x-python",
   "name": "python",
   "nbconvert_exporter": "python",
   "pygments_lexer": "ipython3",
   "version": "3.8.3"
  }
 },
 "nbformat": 4,
 "nbformat_minor": 2
}
