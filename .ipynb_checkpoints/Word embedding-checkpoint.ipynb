{
 "cells": [
  {
   "cell_type": "code",
   "execution_count": 62,
   "metadata": {},
   "outputs": [],
   "source": [
    "import torch\n",
    "import torch.nn as nn\n",
    "import torch.nn.functional as F\n",
    "from torch.autograd import Variable\n",
    "import torch.optim as optim\n",
    "import numpy as np\n",
    "import random"
   ]
  },
  {
   "cell_type": "markdown",
   "metadata": {},
   "source": [
    "## Create Dataset"
   ]
  },
  {
   "cell_type": "code",
   "execution_count": 77,
   "metadata": {},
   "outputs": [],
   "source": [
    "text =\"\"\"Weil Bananen böse sind und sie krumme Sachen machen\n",
    "Weil sie Leute um die Ecke bringen\n",
    "Weil ihr gerade Sachen viel zu Mainstream waren\n",
    "Weil der Erderwärmung\n",
    "Weil die Iluminaten das so wollen\n",
    "Weil sie Langeweile hatte\n",
    "Weil wegen halt ist so\n",
    "Weil sie wenn sie gerade wär ja keine Banane wär\n",
    "Weil sie wegen übermäßiger Masturbation keine Erektion mehr verspürt\n",
    "Weil sie Jahre lang einen Bogen um die DDR machte\n",
    "Weil einer auf dem Acker wetzte und sich auf die Banane setzte\n",
    "Weil die Affen dran gefummelt haben\n",
    "Es gab Bemühungen in der DDR Bananen mittels kubanischer Spreewaldgurken nachzubauen aus Verzweiflung haben sich die Bananen deshalb krumm gemacht\n",
    "Weil die Affen im Urwald drauf schaukeln tun\n",
    "Weil sie seit Jahrtausenden im Urwald Limbo tanzen dadurch ist der Rücken der Bananen ziemlich krumm geworden\n",
    "Weil sie sonst nicht in die Schale passt\n",
    "Weil sie durch die Bananenbatterie so geformt wurde\n",
    "Das kommt vom Mond\n",
    "Auch Bananen haben das Bedürfnis ihren unteren Teil zu begutachten  Ein nach vorne beugen ist dabei zwingend\n",
    "Eine andere Theorie besagt dass sie sich aufgrund der Erdanziehung im Laufe der Zeit krümmen\n",
    "Bananen sind seit dem Bananenkrieg von krumm\n",
    "Bananen sind krumm weil die Raum Zeit sich biegt und die Bananen biegen sich mit\n",
    "Weil sie von der Sonne gekitzelt wurde\n",
    "Weil sie zu dumm war sich gerade zu biegen\n",
    "Weil sie beim Sit Up machen erstarrt sind\n",
    "Weil sie zu viel Unsinn angestellt haben\n",
    "Weil sie verstecken gespielt hat mit anderen Bananen und und hat dabei versucht sich kleine zu machen was leider nicht ganz klappte\n",
    "Weil niemand in den Urwald zog und die Banane gerade bog\n",
    "Weil Baum\n",
    "Weil sie sich krumm gelacht haben\n",
    "Weil man sie dann so viel besser als Spielzeugpistole verwenden kann\n",
    "Damit sie leichter an das männliche Glied erinnert\n",
    "Weil sie gelb sind\n",
    "Albert Einstein sagte Große Massen krümmen den Raum Die Erde hat eine große Masse und deshalb krümmt sie den Raum um die Banane herum Die Krummheit der Banane ist dieser Theorie also nur eine Illusion denn innerhalb des gekrümmten Raums ist die Banane natürlich völlig gerade oder so\n",
    "Weil sie als KanonenFutter benuzt wurde\n",
    "Weil man sie nicht nur zum Essen verwendet hat\n",
    "Weil sie es kann\"\"\""
   ]
  },
  {
   "cell_type": "code",
   "execution_count": 79,
   "metadata": {},
   "outputs": [
    {
     "name": "stdout",
     "output_type": "stream",
     "text": [
      "[('weil', 'bananen', 'böse'), ('bananen', 'böse', 'sind'), ('böse', 'sind', 'und')]\n"
     ]
    }
   ],
   "source": [
    "sencentce = text.lower().split()\n",
    "trigrams = [(sencentce[i], sencentce[i +1], sencentce[i+2]) for i in range(len(sencentce) - 2)]\n",
    "print(trigrams[:3])\n",
    "vocab = list(set(sencentce))\n",
    "word_to_ix = {word: i for i, word in enumerate(vocab)}"
   ]
  },
  {
   "cell_type": "code",
   "execution_count": 82,
   "metadata": {},
   "outputs": [],
   "source": [
    "hidden_dim = 256\n",
    "class NGramLanguage(nn.Module):\n",
    "    \n",
    "    def __init__(self, vocab_sice, emb_size, context_size):\n",
    "        super(NGramLanguage, self).__init__()\n",
    "        self.embedding = nn.Embedding(vocab_sice, emb_size)\n",
    "        self.linear1 = nn.Linear(context_size * emb_size, hidden_dim)\n",
    "        self.linear2 = nn.Linear(hidden_dim, vocab_sice)\n",
    "        \n",
    "    def forward(self, x):\n",
    "        emb = self.embedding(x).view((1, -1))\n",
    "        out = F.relu(self.linear1(emb))\n",
    "        out = self.linear2(out)\n",
    "        log_probs = F.log_softmax(out, dim=1)\n",
    "        return log_probs"
   ]
  },
  {
   "cell_type": "code",
   "execution_count": 85,
   "metadata": {},
   "outputs": [],
   "source": [
    "learning_rate = 0.001\n",
    "losses = []\n",
    "loss_function = nn.NLLLoss()\n",
    "model = NGramLanguage(len(vocab), 10, 2)\n",
    "op = optim.SGD(model.parameters(), lr=learning_rate)"
   ]
  },
  {
   "cell_type": "code",
   "execution_count": null,
   "metadata": {},
   "outputs": [],
   "source": [
    "  "
   ]
  },
  {
   "cell_type": "code",
   "execution_count": null,
   "metadata": {},
   "outputs": [],
   "source": []
  },
  {
   "cell_type": "code",
   "execution_count": null,
   "metadata": {},
   "outputs": [],
   "source": []
  },
  {
   "cell_type": "code",
   "execution_count": null,
   "metadata": {},
   "outputs": [],
   "source": []
  },
  {
   "cell_type": "code",
   "execution_count": null,
   "metadata": {},
   "outputs": [],
   "source": []
  }
 ],
 "metadata": {
  "kernelspec": {
   "display_name": "Python 3",
   "language": "python",
   "name": "python3"
  },
  "language_info": {
   "codemirror_mode": {
    "name": "ipython",
    "version": 3
   },
   "file_extension": ".py",
   "mimetype": "text/x-python",
   "name": "python",
   "nbconvert_exporter": "python",
   "pygments_lexer": "ipython3",
   "version": "3.8.3"
  }
 },
 "nbformat": 4,
 "nbformat_minor": 4
}
